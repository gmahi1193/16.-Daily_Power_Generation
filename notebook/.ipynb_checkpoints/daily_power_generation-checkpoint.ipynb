{
 "cells": [
  {
   "cell_type": "markdown",
   "metadata": {
    "colab_type": "text",
    "id": "IKVe6h6kov4X"
   },
   "source": [
    "# Daily Power Generation Data Cleaning and Analysis\n",
    "\n"
   ]
  },
  {
   "cell_type": "markdown",
   "metadata": {
    "colab_type": "text",
    "id": "fIJD74wYozv5"
   },
   "source": [
    "\n",
    "India is the world's third-largest producer and third largest consumer of electricity. The national electric grid in India has an installed capacity of 370.106 GW as of 31 March 2020. Renewable power plants, which also include large hydroelectric plants, constitute 35.86% of India's total installed capacity.\n",
    "India has a surplus power generation capacity but lacks adequate distribution infrastructure.\n",
    "\n",
    "India's electricity sector is dominated by fossil fuels, in particular coal, which during the 2018-19 fiscal year produced about three-quarters of the country's electricity. The government is making efforts to increase investment in renewable energy. The government's National Electricity Plan of 2018 states that the country does not need more non-renewable power plants in the utility sector until 2027, with the commissioning of 50,025 MW coal-based power plants under construction and addition of 275,000 MW total renewable power capacity after the retirement of nearly 48,000 MW old coal-fired plants.\n",
    "\n",
    "India has recorded rapid growth in electricity generation since 1985, increasing from 179 TW-hr in 1985 to 1,057 TW-hr in 2012. The majority of the increase came from coal-fired plants and non-conventional renewable energy sources (RES), with the contribution from natural gas, oil, and hydro plants decreasing in 2012-2017. The gross utility electricity generation (excluding imports from Bhutan) was 1,384 billion kWh in 2019-20, representing 1.0 % annual growth compared to 2018-2019. The contribution from renewable energy sources was nearly 20% of the total. In the year 2019-20, all the incremental electricity generation is contributed by renewable energy sources as the power generation from fossil fuels decreased.\n",
    "The drivers for India's electricity sector are its rapidly growing economy, rising exports, improving infrastructure, and increasing household incomes.\n",
    "\n",
    "\n",
    "## Data\n",
    "There are 2 CSV files for the study. Each file has detailed file, and row, and column description for easier understanding of the user.\n",
    "\n",
    "## Acknowledgements\n",
    "Data has been extracted from openly available reports of National Power Portal at \"https://npp.gov.in/\". I have made my code for extracting the dataset which you can find under the kernels section of the dataset.\n",
    "\n"
   ]
  },
  {
   "cell_type": "markdown",
   "metadata": {
    "colab_type": "text",
    "id": "CsOsqQuCozb3"
   },
   "source": [
    "## Session flow :\n",
    "\n",
    "* Data Cleaning and basic analysis will be done for the first 90 - 100 minutes.\n",
    "\n",
    "* Brainstorming activity to form atleast 3 questions which are to be answered and try to individually code it to get the desired output(20-30 minutes)"
   ]
  },
  {
   "cell_type": "markdown",
   "metadata": {
    "colab_type": "text",
    "id": "4oIXyK75o71U"
   },
   "source": [
    "## Load the libraries"
   ]
  },
  {
   "cell_type": "code",
   "execution_count": 1,
   "metadata": {
    "colab": {},
    "colab_type": "code",
    "id": "DT0e5F87ox4n"
   },
   "outputs": [],
   "source": [
    "import os\n",
    "import pandas as pd\n",
    "import numpy as np\n",
    "import matplotlib.pyplot as plt\n"
   ]
  },
  {
   "cell_type": "markdown",
   "metadata": {
    "colab_type": "text",
    "id": "pzhl8usGpH7m"
   },
   "source": [
    "## Load the data"
   ]
  },
  {
   "cell_type": "code",
   "execution_count": 2,
   "metadata": {
    "colab": {},
    "colab_type": "code",
    "id": "fgem045TpLVr"
   },
   "outputs": [],
   "source": [
    "path1 = '../data/power_generation.csv'\n",
    "path2 = '../data/State_Region_corrected.csv'\n",
    "power_df = pd.read_csv(path1)\n",
    "states_df = pd.read_csv(path2)\n"
   ]
  },
  {
   "cell_type": "code",
   "execution_count": 3,
   "metadata": {},
   "outputs": [
    {
     "data": {
      "text/html": [
       "<div>\n",
       "<style scoped>\n",
       "    .dataframe tbody tr th:only-of-type {\n",
       "        vertical-align: middle;\n",
       "    }\n",
       "\n",
       "    .dataframe tbody tr th {\n",
       "        vertical-align: top;\n",
       "    }\n",
       "\n",
       "    .dataframe thead th {\n",
       "        text-align: right;\n",
       "    }\n",
       "</style>\n",
       "<table border=\"1\" class=\"dataframe\">\n",
       "  <thead>\n",
       "    <tr style=\"text-align: right;\">\n",
       "      <th></th>\n",
       "      <th>index</th>\n",
       "      <th>Date</th>\n",
       "      <th>Region</th>\n",
       "      <th>Thermal Generation Actual (in MU)</th>\n",
       "      <th>Thermal Generation Estimated (in MU)</th>\n",
       "      <th>Nuclear Generation Actual (in MU)</th>\n",
       "      <th>Nuclear Generation Estimated (in MU)</th>\n",
       "      <th>Hydro Generation Actual (in MU)</th>\n",
       "      <th>Hydro Generation Estimated (in MU)</th>\n",
       "    </tr>\n",
       "  </thead>\n",
       "  <tbody>\n",
       "    <tr>\n",
       "      <th>0</th>\n",
       "      <td>0</td>\n",
       "      <td>2017-09-01</td>\n",
       "      <td>Northern</td>\n",
       "      <td>624.23</td>\n",
       "      <td>484.21</td>\n",
       "      <td>30.36</td>\n",
       "      <td>35.57</td>\n",
       "      <td>273.27</td>\n",
       "      <td>320.81</td>\n",
       "    </tr>\n",
       "    <tr>\n",
       "      <th>1</th>\n",
       "      <td>1</td>\n",
       "      <td>2017-09-01</td>\n",
       "      <td>Western</td>\n",
       "      <td>1,106.89</td>\n",
       "      <td>1,024.33</td>\n",
       "      <td>25.17</td>\n",
       "      <td>3.81</td>\n",
       "      <td>72.00</td>\n",
       "      <td>21.53</td>\n",
       "    </tr>\n",
       "    <tr>\n",
       "      <th>2</th>\n",
       "      <td>2</td>\n",
       "      <td>2017-09-01</td>\n",
       "      <td>Southern</td>\n",
       "      <td>576.66</td>\n",
       "      <td>578.55</td>\n",
       "      <td>62.73</td>\n",
       "      <td>49.80</td>\n",
       "      <td>111.57</td>\n",
       "      <td>64.78</td>\n",
       "    </tr>\n",
       "    <tr>\n",
       "      <th>3</th>\n",
       "      <td>3</td>\n",
       "      <td>2017-09-01</td>\n",
       "      <td>Eastern</td>\n",
       "      <td>441.02</td>\n",
       "      <td>429.39</td>\n",
       "      <td>NaN</td>\n",
       "      <td>NaN</td>\n",
       "      <td>85.94</td>\n",
       "      <td>69.36</td>\n",
       "    </tr>\n",
       "    <tr>\n",
       "      <th>4</th>\n",
       "      <td>4</td>\n",
       "      <td>2017-09-01</td>\n",
       "      <td>NorthEastern</td>\n",
       "      <td>29.11</td>\n",
       "      <td>15.91</td>\n",
       "      <td>NaN</td>\n",
       "      <td>NaN</td>\n",
       "      <td>24.64</td>\n",
       "      <td>21.21</td>\n",
       "    </tr>\n",
       "  </tbody>\n",
       "</table>\n",
       "</div>"
      ],
      "text/plain": [
       "   index        Date        Region Thermal Generation Actual (in MU)  \\\n",
       "0      0  2017-09-01      Northern                            624.23   \n",
       "1      1  2017-09-01       Western                          1,106.89   \n",
       "2      2  2017-09-01      Southern                            576.66   \n",
       "3      3  2017-09-01       Eastern                            441.02   \n",
       "4      4  2017-09-01  NorthEastern                             29.11   \n",
       "\n",
       "  Thermal Generation Estimated (in MU)  Nuclear Generation Actual (in MU)  \\\n",
       "0                               484.21                              30.36   \n",
       "1                             1,024.33                              25.17   \n",
       "2                               578.55                              62.73   \n",
       "3                               429.39                                NaN   \n",
       "4                                15.91                                NaN   \n",
       "\n",
       "   Nuclear Generation Estimated (in MU)  Hydro Generation Actual (in MU)  \\\n",
       "0                                 35.57                           273.27   \n",
       "1                                  3.81                            72.00   \n",
       "2                                 49.80                           111.57   \n",
       "3                                   NaN                            85.94   \n",
       "4                                   NaN                            24.64   \n",
       "\n",
       "   Hydro Generation Estimated (in MU)  \n",
       "0                              320.81  \n",
       "1                               21.53  \n",
       "2                               64.78  \n",
       "3                               69.36  \n",
       "4                               21.21  "
      ]
     },
     "execution_count": 3,
     "metadata": {},
     "output_type": "execute_result"
    }
   ],
   "source": [
    "power_df.head()"
   ]
  },
  {
   "cell_type": "code",
   "execution_count": 4,
   "metadata": {},
   "outputs": [
    {
     "data": {
      "text/html": [
       "<div>\n",
       "<style scoped>\n",
       "    .dataframe tbody tr th:only-of-type {\n",
       "        vertical-align: middle;\n",
       "    }\n",
       "\n",
       "    .dataframe tbody tr th {\n",
       "        vertical-align: top;\n",
       "    }\n",
       "\n",
       "    .dataframe thead th {\n",
       "        text-align: right;\n",
       "    }\n",
       "</style>\n",
       "<table border=\"1\" class=\"dataframe\">\n",
       "  <thead>\n",
       "    <tr style=\"text-align: right;\">\n",
       "      <th></th>\n",
       "      <th>index</th>\n",
       "      <th>Nuclear Generation Actual (in MU)</th>\n",
       "      <th>Nuclear Generation Estimated (in MU)</th>\n",
       "      <th>Hydro Generation Actual (in MU)</th>\n",
       "      <th>Hydro Generation Estimated (in MU)</th>\n",
       "    </tr>\n",
       "  </thead>\n",
       "  <tbody>\n",
       "    <tr>\n",
       "      <th>count</th>\n",
       "      <td>4945.000000</td>\n",
       "      <td>2967.000000</td>\n",
       "      <td>2967.000000</td>\n",
       "      <td>4945.000000</td>\n",
       "      <td>4945.000000</td>\n",
       "    </tr>\n",
       "    <tr>\n",
       "      <th>mean</th>\n",
       "      <td>2181.433771</td>\n",
       "      <td>37.242208</td>\n",
       "      <td>36.987877</td>\n",
       "      <td>73.305921</td>\n",
       "      <td>76.842965</td>\n",
       "    </tr>\n",
       "    <tr>\n",
       "      <th>std</th>\n",
       "      <td>1397.754755</td>\n",
       "      <td>15.883968</td>\n",
       "      <td>11.491292</td>\n",
       "      <td>74.482145</td>\n",
       "      <td>82.043952</td>\n",
       "    </tr>\n",
       "    <tr>\n",
       "      <th>min</th>\n",
       "      <td>0.000000</td>\n",
       "      <td>0.000000</td>\n",
       "      <td>0.000000</td>\n",
       "      <td>0.000000</td>\n",
       "      <td>0.000000</td>\n",
       "    </tr>\n",
       "    <tr>\n",
       "      <th>25%</th>\n",
       "      <td>926.000000</td>\n",
       "      <td>26.140000</td>\n",
       "      <td>30.190000</td>\n",
       "      <td>26.910000</td>\n",
       "      <td>23.310000</td>\n",
       "    </tr>\n",
       "    <tr>\n",
       "      <th>50%</th>\n",
       "      <td>2162.000000</td>\n",
       "      <td>30.720000</td>\n",
       "      <td>34.840000</td>\n",
       "      <td>52.960000</td>\n",
       "      <td>50.270000</td>\n",
       "    </tr>\n",
       "    <tr>\n",
       "      <th>75%</th>\n",
       "      <td>3398.000000</td>\n",
       "      <td>46.830000</td>\n",
       "      <td>43.075000</td>\n",
       "      <td>85.940000</td>\n",
       "      <td>95.800000</td>\n",
       "    </tr>\n",
       "    <tr>\n",
       "      <th>max</th>\n",
       "      <td>4634.000000</td>\n",
       "      <td>68.740000</td>\n",
       "      <td>76.640000</td>\n",
       "      <td>348.720000</td>\n",
       "      <td>397.380000</td>\n",
       "    </tr>\n",
       "  </tbody>\n",
       "</table>\n",
       "</div>"
      ],
      "text/plain": [
       "             index  Nuclear Generation Actual (in MU)  \\\n",
       "count  4945.000000                        2967.000000   \n",
       "mean   2181.433771                          37.242208   \n",
       "std    1397.754755                          15.883968   \n",
       "min       0.000000                           0.000000   \n",
       "25%     926.000000                          26.140000   \n",
       "50%    2162.000000                          30.720000   \n",
       "75%    3398.000000                          46.830000   \n",
       "max    4634.000000                          68.740000   \n",
       "\n",
       "       Nuclear Generation Estimated (in MU)  Hydro Generation Actual (in MU)  \\\n",
       "count                           2967.000000                      4945.000000   \n",
       "mean                              36.987877                        73.305921   \n",
       "std                               11.491292                        74.482145   \n",
       "min                                0.000000                         0.000000   \n",
       "25%                               30.190000                        26.910000   \n",
       "50%                               34.840000                        52.960000   \n",
       "75%                               43.075000                        85.940000   \n",
       "max                               76.640000                       348.720000   \n",
       "\n",
       "       Hydro Generation Estimated (in MU)  \n",
       "count                         4945.000000  \n",
       "mean                            76.842965  \n",
       "std                             82.043952  \n",
       "min                              0.000000  \n",
       "25%                             23.310000  \n",
       "50%                             50.270000  \n",
       "75%                             95.800000  \n",
       "max                            397.380000  "
      ]
     },
     "execution_count": 4,
     "metadata": {},
     "output_type": "execute_result"
    }
   ],
   "source": [
    "power_df.describe()"
   ]
  },
  {
   "cell_type": "code",
   "execution_count": 5,
   "metadata": {},
   "outputs": [
    {
     "data": {
      "text/plain": [
       "index                                     int64\n",
       "Date                                     object\n",
       "Region                                   object\n",
       "Thermal Generation Actual (in MU)        object\n",
       "Thermal Generation Estimated (in MU)     object\n",
       "Nuclear Generation Actual (in MU)       float64\n",
       "Nuclear Generation Estimated (in MU)    float64\n",
       "Hydro Generation Actual (in MU)         float64\n",
       "Hydro Generation Estimated (in MU)      float64\n",
       "dtype: object"
      ]
     },
     "execution_count": 5,
     "metadata": {},
     "output_type": "execute_result"
    }
   ],
   "source": [
    "power_df.dtypes"
   ]
  },
  {
   "cell_type": "code",
   "execution_count": 6,
   "metadata": {},
   "outputs": [
    {
     "name": "stdout",
     "output_type": "stream",
     "text": [
      "<class 'pandas.core.frame.DataFrame'>\n",
      "RangeIndex: 4945 entries, 0 to 4944\n",
      "Data columns (total 9 columns):\n",
      " #   Column                                Non-Null Count  Dtype  \n",
      "---  ------                                --------------  -----  \n",
      " 0   index                                 4945 non-null   int64  \n",
      " 1   Date                                  4945 non-null   object \n",
      " 2   Region                                4945 non-null   object \n",
      " 3   Thermal Generation Actual (in MU)     4945 non-null   object \n",
      " 4   Thermal Generation Estimated (in MU)  4945 non-null   object \n",
      " 5   Nuclear Generation Actual (in MU)     2967 non-null   float64\n",
      " 6   Nuclear Generation Estimated (in MU)  2967 non-null   float64\n",
      " 7   Hydro Generation Actual (in MU)       4945 non-null   float64\n",
      " 8   Hydro Generation Estimated (in MU)    4945 non-null   float64\n",
      "dtypes: float64(4), int64(1), object(4)\n",
      "memory usage: 347.8+ KB\n"
     ]
    }
   ],
   "source": [
    "power_df.info()"
   ]
  },
  {
   "cell_type": "code",
   "execution_count": 7,
   "metadata": {},
   "outputs": [
    {
     "data": {
      "text/html": [
       "<div>\n",
       "<style scoped>\n",
       "    .dataframe tbody tr th:only-of-type {\n",
       "        vertical-align: middle;\n",
       "    }\n",
       "\n",
       "    .dataframe tbody tr th {\n",
       "        vertical-align: top;\n",
       "    }\n",
       "\n",
       "    .dataframe thead th {\n",
       "        text-align: right;\n",
       "    }\n",
       "</style>\n",
       "<table border=\"1\" class=\"dataframe\">\n",
       "  <thead>\n",
       "    <tr style=\"text-align: right;\">\n",
       "      <th></th>\n",
       "      <th>State / Union territory (UT)</th>\n",
       "      <th>Area (km2)</th>\n",
       "      <th>Region</th>\n",
       "      <th>National Share (%)</th>\n",
       "    </tr>\n",
       "  </thead>\n",
       "  <tbody>\n",
       "    <tr>\n",
       "      <th>0</th>\n",
       "      <td>Rajasthan</td>\n",
       "      <td>342239</td>\n",
       "      <td>Northern</td>\n",
       "      <td>10.55</td>\n",
       "    </tr>\n",
       "    <tr>\n",
       "      <th>1</th>\n",
       "      <td>Madhya Pradesh</td>\n",
       "      <td>308350</td>\n",
       "      <td>Central</td>\n",
       "      <td>9.37</td>\n",
       "    </tr>\n",
       "    <tr>\n",
       "      <th>2</th>\n",
       "      <td>Maharashtra</td>\n",
       "      <td>307713</td>\n",
       "      <td>Western</td>\n",
       "      <td>9.36</td>\n",
       "    </tr>\n",
       "    <tr>\n",
       "      <th>3</th>\n",
       "      <td>Uttar Pradesh</td>\n",
       "      <td>240928</td>\n",
       "      <td>Northern</td>\n",
       "      <td>7.33</td>\n",
       "    </tr>\n",
       "    <tr>\n",
       "      <th>4</th>\n",
       "      <td>Gujarat</td>\n",
       "      <td>196024</td>\n",
       "      <td>Western</td>\n",
       "      <td>5.96</td>\n",
       "    </tr>\n",
       "  </tbody>\n",
       "</table>\n",
       "</div>"
      ],
      "text/plain": [
       "  State / Union territory (UT)  Area (km2)    Region  National Share (%)\n",
       "0                    Rajasthan      342239  Northern               10.55\n",
       "1               Madhya Pradesh      308350   Central                9.37\n",
       "2                  Maharashtra      307713   Western                9.36\n",
       "3                Uttar Pradesh      240928  Northern                7.33\n",
       "4                      Gujarat      196024   Western                5.96"
      ]
     },
     "execution_count": 7,
     "metadata": {},
     "output_type": "execute_result"
    }
   ],
   "source": [
    "states_df.head()"
   ]
  },
  {
   "cell_type": "code",
   "execution_count": 8,
   "metadata": {},
   "outputs": [
    {
     "data": {
      "text/html": [
       "<div>\n",
       "<style scoped>\n",
       "    .dataframe tbody tr th:only-of-type {\n",
       "        vertical-align: middle;\n",
       "    }\n",
       "\n",
       "    .dataframe tbody tr th {\n",
       "        vertical-align: top;\n",
       "    }\n",
       "\n",
       "    .dataframe thead th {\n",
       "        text-align: right;\n",
       "    }\n",
       "</style>\n",
       "<table border=\"1\" class=\"dataframe\">\n",
       "  <thead>\n",
       "    <tr style=\"text-align: right;\">\n",
       "      <th></th>\n",
       "      <th>Area (km2)</th>\n",
       "      <th>National Share (%)</th>\n",
       "    </tr>\n",
       "  </thead>\n",
       "  <tbody>\n",
       "    <tr>\n",
       "      <th>count</th>\n",
       "      <td>34.000000</td>\n",
       "      <td>34.000000</td>\n",
       "    </tr>\n",
       "    <tr>\n",
       "      <th>mean</th>\n",
       "      <td>92889.117647</td>\n",
       "      <td>2.826265</td>\n",
       "    </tr>\n",
       "    <tr>\n",
       "      <th>std</th>\n",
       "      <td>95464.810113</td>\n",
       "      <td>2.914077</td>\n",
       "    </tr>\n",
       "    <tr>\n",
       "      <th>min</th>\n",
       "      <td>114.000000</td>\n",
       "      <td>0.003000</td>\n",
       "    </tr>\n",
       "    <tr>\n",
       "      <th>25%</th>\n",
       "      <td>21392.500000</td>\n",
       "      <td>0.650000</td>\n",
       "    </tr>\n",
       "    <tr>\n",
       "      <th>50%</th>\n",
       "      <td>57409.500000</td>\n",
       "      <td>1.750000</td>\n",
       "    </tr>\n",
       "    <tr>\n",
       "      <th>75%</th>\n",
       "      <td>133907.750000</td>\n",
       "      <td>4.070000</td>\n",
       "    </tr>\n",
       "    <tr>\n",
       "      <th>max</th>\n",
       "      <td>342239.000000</td>\n",
       "      <td>10.550000</td>\n",
       "    </tr>\n",
       "  </tbody>\n",
       "</table>\n",
       "</div>"
      ],
      "text/plain": [
       "          Area (km2)  National Share (%)\n",
       "count      34.000000           34.000000\n",
       "mean    92889.117647            2.826265\n",
       "std     95464.810113            2.914077\n",
       "min       114.000000            0.003000\n",
       "25%     21392.500000            0.650000\n",
       "50%     57409.500000            1.750000\n",
       "75%    133907.750000            4.070000\n",
       "max    342239.000000           10.550000"
      ]
     },
     "execution_count": 8,
     "metadata": {},
     "output_type": "execute_result"
    }
   ],
   "source": [
    "states_df.describe()"
   ]
  },
  {
   "cell_type": "code",
   "execution_count": 9,
   "metadata": {},
   "outputs": [
    {
     "name": "stdout",
     "output_type": "stream",
     "text": [
      "<class 'pandas.core.frame.DataFrame'>\n",
      "RangeIndex: 34 entries, 0 to 33\n",
      "Data columns (total 4 columns):\n",
      " #   Column                        Non-Null Count  Dtype  \n",
      "---  ------                        --------------  -----  \n",
      " 0   State / Union territory (UT)  34 non-null     object \n",
      " 1   Area (km2)                    34 non-null     int64  \n",
      " 2   Region                        34 non-null     object \n",
      " 3   National Share (%)            34 non-null     float64\n",
      "dtypes: float64(1), int64(1), object(2)\n",
      "memory usage: 1.2+ KB\n"
     ]
    }
   ],
   "source": [
    "states_df.info()"
   ]
  },
  {
   "cell_type": "code",
   "execution_count": 10,
   "metadata": {},
   "outputs": [
    {
     "data": {
      "text/plain": [
       "(34, 4)"
      ]
     },
     "execution_count": 10,
     "metadata": {},
     "output_type": "execute_result"
    }
   ],
   "source": [
    "states_df.shape"
   ]
  },
  {
   "cell_type": "code",
   "execution_count": null,
   "metadata": {},
   "outputs": [],
   "source": []
  },
  {
   "cell_type": "markdown",
   "metadata": {
    "colab_type": "text",
    "id": "tTwjxqDSpNyL"
   },
   "source": [
    "## Remove the column `index` from power_df dataframe"
   ]
  },
  {
   "cell_type": "code",
   "execution_count": 11,
   "metadata": {
    "colab": {},
    "colab_type": "code",
    "id": "cXcK0DxKpkIv"
   },
   "outputs": [
    {
     "data": {
      "text/html": [
       "<div>\n",
       "<style scoped>\n",
       "    .dataframe tbody tr th:only-of-type {\n",
       "        vertical-align: middle;\n",
       "    }\n",
       "\n",
       "    .dataframe tbody tr th {\n",
       "        vertical-align: top;\n",
       "    }\n",
       "\n",
       "    .dataframe thead th {\n",
       "        text-align: right;\n",
       "    }\n",
       "</style>\n",
       "<table border=\"1\" class=\"dataframe\">\n",
       "  <thead>\n",
       "    <tr style=\"text-align: right;\">\n",
       "      <th></th>\n",
       "      <th>Date</th>\n",
       "      <th>Region</th>\n",
       "      <th>Thermal Generation Actual (in MU)</th>\n",
       "      <th>Thermal Generation Estimated (in MU)</th>\n",
       "      <th>Nuclear Generation Actual (in MU)</th>\n",
       "      <th>Nuclear Generation Estimated (in MU)</th>\n",
       "      <th>Hydro Generation Actual (in MU)</th>\n",
       "      <th>Hydro Generation Estimated (in MU)</th>\n",
       "    </tr>\n",
       "  </thead>\n",
       "  <tbody>\n",
       "    <tr>\n",
       "      <th>0</th>\n",
       "      <td>2017-09-01</td>\n",
       "      <td>Northern</td>\n",
       "      <td>624.23</td>\n",
       "      <td>484.21</td>\n",
       "      <td>30.36</td>\n",
       "      <td>35.57</td>\n",
       "      <td>273.27</td>\n",
       "      <td>320.81</td>\n",
       "    </tr>\n",
       "    <tr>\n",
       "      <th>1</th>\n",
       "      <td>2017-09-01</td>\n",
       "      <td>Western</td>\n",
       "      <td>1,106.89</td>\n",
       "      <td>1,024.33</td>\n",
       "      <td>25.17</td>\n",
       "      <td>3.81</td>\n",
       "      <td>72.00</td>\n",
       "      <td>21.53</td>\n",
       "    </tr>\n",
       "    <tr>\n",
       "      <th>2</th>\n",
       "      <td>2017-09-01</td>\n",
       "      <td>Southern</td>\n",
       "      <td>576.66</td>\n",
       "      <td>578.55</td>\n",
       "      <td>62.73</td>\n",
       "      <td>49.80</td>\n",
       "      <td>111.57</td>\n",
       "      <td>64.78</td>\n",
       "    </tr>\n",
       "    <tr>\n",
       "      <th>3</th>\n",
       "      <td>2017-09-01</td>\n",
       "      <td>Eastern</td>\n",
       "      <td>441.02</td>\n",
       "      <td>429.39</td>\n",
       "      <td>NaN</td>\n",
       "      <td>NaN</td>\n",
       "      <td>85.94</td>\n",
       "      <td>69.36</td>\n",
       "    </tr>\n",
       "    <tr>\n",
       "      <th>4</th>\n",
       "      <td>2017-09-01</td>\n",
       "      <td>NorthEastern</td>\n",
       "      <td>29.11</td>\n",
       "      <td>15.91</td>\n",
       "      <td>NaN</td>\n",
       "      <td>NaN</td>\n",
       "      <td>24.64</td>\n",
       "      <td>21.21</td>\n",
       "    </tr>\n",
       "  </tbody>\n",
       "</table>\n",
       "</div>"
      ],
      "text/plain": [
       "         Date        Region Thermal Generation Actual (in MU)  \\\n",
       "0  2017-09-01      Northern                            624.23   \n",
       "1  2017-09-01       Western                          1,106.89   \n",
       "2  2017-09-01      Southern                            576.66   \n",
       "3  2017-09-01       Eastern                            441.02   \n",
       "4  2017-09-01  NorthEastern                             29.11   \n",
       "\n",
       "  Thermal Generation Estimated (in MU)  Nuclear Generation Actual (in MU)  \\\n",
       "0                               484.21                              30.36   \n",
       "1                             1,024.33                              25.17   \n",
       "2                               578.55                              62.73   \n",
       "3                               429.39                                NaN   \n",
       "4                                15.91                                NaN   \n",
       "\n",
       "   Nuclear Generation Estimated (in MU)  Hydro Generation Actual (in MU)  \\\n",
       "0                                 35.57                           273.27   \n",
       "1                                  3.81                            72.00   \n",
       "2                                 49.80                           111.57   \n",
       "3                                   NaN                            85.94   \n",
       "4                                   NaN                            24.64   \n",
       "\n",
       "   Hydro Generation Estimated (in MU)  \n",
       "0                              320.81  \n",
       "1                               21.53  \n",
       "2                               64.78  \n",
       "3                               69.36  \n",
       "4                               21.21  "
      ]
     },
     "execution_count": 11,
     "metadata": {},
     "output_type": "execute_result"
    }
   ],
   "source": [
    "power_df.drop(columns = 'index',axis = 1, inplace = True)\n",
    "power_df.head()"
   ]
  },
  {
   "cell_type": "markdown",
   "metadata": {
    "colab_type": "text",
    "id": "fl3mMuAgpl5G"
   },
   "source": [
    "## Cleaning the power_df dataframe column names :\n",
    "* Remove the substring `' (in MU)'` from all the columns in the power_df dataframe.\n",
    "* Replace all the spaces with underscore in the power_df datafame\n",
    "* All the column names to be converted to small case in the power_df dataframe\n"
   ]
  },
  {
   "cell_type": "code",
   "execution_count": 12,
   "metadata": {
    "colab": {},
    "colab_type": "code",
    "id": "vGBuE_oTpqMf"
   },
   "outputs": [
    {
     "data": {
      "text/plain": [
       "Index(['Date', 'Region', 'Thermal Generation Actual (in MU)',\n",
       "       'Thermal Generation Estimated (in MU)',\n",
       "       'Nuclear Generation Actual (in MU)',\n",
       "       'Nuclear Generation Estimated (in MU)',\n",
       "       'Hydro Generation Actual (in MU)',\n",
       "       'Hydro Generation Estimated (in MU)'],\n",
       "      dtype='object')"
      ]
     },
     "execution_count": 12,
     "metadata": {},
     "output_type": "execute_result"
    }
   ],
   "source": [
    "power_df.columns"
   ]
  },
  {
   "cell_type": "code",
   "execution_count": 13,
   "metadata": {},
   "outputs": [
    {
     "data": {
      "text/html": [
       "<div>\n",
       "<style scoped>\n",
       "    .dataframe tbody tr th:only-of-type {\n",
       "        vertical-align: middle;\n",
       "    }\n",
       "\n",
       "    .dataframe tbody tr th {\n",
       "        vertical-align: top;\n",
       "    }\n",
       "\n",
       "    .dataframe thead th {\n",
       "        text-align: right;\n",
       "    }\n",
       "</style>\n",
       "<table border=\"1\" class=\"dataframe\">\n",
       "  <thead>\n",
       "    <tr style=\"text-align: right;\">\n",
       "      <th></th>\n",
       "      <th>date</th>\n",
       "      <th>region</th>\n",
       "      <th>thermal_generation_actual</th>\n",
       "      <th>thermal_generation_estimated</th>\n",
       "      <th>nuclear_generation_actual</th>\n",
       "      <th>nuclear_generation_estimated</th>\n",
       "      <th>hydro_generation_actual</th>\n",
       "      <th>hydro_generation_estimated</th>\n",
       "    </tr>\n",
       "  </thead>\n",
       "  <tbody>\n",
       "    <tr>\n",
       "      <th>0</th>\n",
       "      <td>2017-09-01</td>\n",
       "      <td>Northern</td>\n",
       "      <td>624.23</td>\n",
       "      <td>484.21</td>\n",
       "      <td>30.36</td>\n",
       "      <td>35.57</td>\n",
       "      <td>273.27</td>\n",
       "      <td>320.81</td>\n",
       "    </tr>\n",
       "    <tr>\n",
       "      <th>1</th>\n",
       "      <td>2017-09-01</td>\n",
       "      <td>Western</td>\n",
       "      <td>1,106.89</td>\n",
       "      <td>1,024.33</td>\n",
       "      <td>25.17</td>\n",
       "      <td>3.81</td>\n",
       "      <td>72.00</td>\n",
       "      <td>21.53</td>\n",
       "    </tr>\n",
       "    <tr>\n",
       "      <th>2</th>\n",
       "      <td>2017-09-01</td>\n",
       "      <td>Southern</td>\n",
       "      <td>576.66</td>\n",
       "      <td>578.55</td>\n",
       "      <td>62.73</td>\n",
       "      <td>49.80</td>\n",
       "      <td>111.57</td>\n",
       "      <td>64.78</td>\n",
       "    </tr>\n",
       "    <tr>\n",
       "      <th>3</th>\n",
       "      <td>2017-09-01</td>\n",
       "      <td>Eastern</td>\n",
       "      <td>441.02</td>\n",
       "      <td>429.39</td>\n",
       "      <td>NaN</td>\n",
       "      <td>NaN</td>\n",
       "      <td>85.94</td>\n",
       "      <td>69.36</td>\n",
       "    </tr>\n",
       "    <tr>\n",
       "      <th>4</th>\n",
       "      <td>2017-09-01</td>\n",
       "      <td>NorthEastern</td>\n",
       "      <td>29.11</td>\n",
       "      <td>15.91</td>\n",
       "      <td>NaN</td>\n",
       "      <td>NaN</td>\n",
       "      <td>24.64</td>\n",
       "      <td>21.21</td>\n",
       "    </tr>\n",
       "  </tbody>\n",
       "</table>\n",
       "</div>"
      ],
      "text/plain": [
       "         date        region thermal_generation_actual  \\\n",
       "0  2017-09-01      Northern                    624.23   \n",
       "1  2017-09-01       Western                  1,106.89   \n",
       "2  2017-09-01      Southern                    576.66   \n",
       "3  2017-09-01       Eastern                    441.02   \n",
       "4  2017-09-01  NorthEastern                     29.11   \n",
       "\n",
       "  thermal_generation_estimated  nuclear_generation_actual  \\\n",
       "0                       484.21                      30.36   \n",
       "1                     1,024.33                      25.17   \n",
       "2                       578.55                      62.73   \n",
       "3                       429.39                        NaN   \n",
       "4                        15.91                        NaN   \n",
       "\n",
       "   nuclear_generation_estimated  hydro_generation_actual  \\\n",
       "0                         35.57                   273.27   \n",
       "1                          3.81                    72.00   \n",
       "2                         49.80                   111.57   \n",
       "3                           NaN                    85.94   \n",
       "4                           NaN                    24.64   \n",
       "\n",
       "   hydro_generation_estimated  \n",
       "0                      320.81  \n",
       "1                       21.53  \n",
       "2                       64.78  \n",
       "3                       69.36  \n",
       "4                       21.21  "
      ]
     },
     "execution_count": 13,
     "metadata": {},
     "output_type": "execute_result"
    }
   ],
   "source": [
    "new_column_names = []\n",
    "for column in power_df.columns:\n",
    "    new_column_names.append(column.replace(' (in MU)','').replace(' ','_').lower())\n",
    "power_df.columns = new_column_names\n",
    "power_df.head()"
   ]
  },
  {
   "cell_type": "markdown",
   "metadata": {
    "colab_type": "text",
    "id": "UK3mNYdGprSP"
   },
   "source": [
    "## Cleaning state_df column names:\n",
    "* Replace the column names 'State / Union territory (UT)', 'Area (km2)', 'Region' and 'National Share (%)' with 'state','area','region' and 'national_share' respectively"
   ]
  },
  {
   "cell_type": "code",
   "execution_count": 14,
   "metadata": {
    "colab": {},
    "colab_type": "code",
    "id": "MhAVWRhkpu9t"
   },
   "outputs": [],
   "source": [
    "states_df.columns = ['state','area','region','national_share']"
   ]
  },
  {
   "cell_type": "code",
   "execution_count": 15,
   "metadata": {},
   "outputs": [
    {
     "data": {
      "text/html": [
       "<div>\n",
       "<style scoped>\n",
       "    .dataframe tbody tr th:only-of-type {\n",
       "        vertical-align: middle;\n",
       "    }\n",
       "\n",
       "    .dataframe tbody tr th {\n",
       "        vertical-align: top;\n",
       "    }\n",
       "\n",
       "    .dataframe thead th {\n",
       "        text-align: right;\n",
       "    }\n",
       "</style>\n",
       "<table border=\"1\" class=\"dataframe\">\n",
       "  <thead>\n",
       "    <tr style=\"text-align: right;\">\n",
       "      <th></th>\n",
       "      <th>state</th>\n",
       "      <th>area</th>\n",
       "      <th>region</th>\n",
       "      <th>national_share</th>\n",
       "    </tr>\n",
       "  </thead>\n",
       "  <tbody>\n",
       "    <tr>\n",
       "      <th>0</th>\n",
       "      <td>Rajasthan</td>\n",
       "      <td>342239</td>\n",
       "      <td>Northern</td>\n",
       "      <td>10.55</td>\n",
       "    </tr>\n",
       "    <tr>\n",
       "      <th>1</th>\n",
       "      <td>Madhya Pradesh</td>\n",
       "      <td>308350</td>\n",
       "      <td>Central</td>\n",
       "      <td>9.37</td>\n",
       "    </tr>\n",
       "    <tr>\n",
       "      <th>2</th>\n",
       "      <td>Maharashtra</td>\n",
       "      <td>307713</td>\n",
       "      <td>Western</td>\n",
       "      <td>9.36</td>\n",
       "    </tr>\n",
       "    <tr>\n",
       "      <th>3</th>\n",
       "      <td>Uttar Pradesh</td>\n",
       "      <td>240928</td>\n",
       "      <td>Northern</td>\n",
       "      <td>7.33</td>\n",
       "    </tr>\n",
       "    <tr>\n",
       "      <th>4</th>\n",
       "      <td>Gujarat</td>\n",
       "      <td>196024</td>\n",
       "      <td>Western</td>\n",
       "      <td>5.96</td>\n",
       "    </tr>\n",
       "  </tbody>\n",
       "</table>\n",
       "</div>"
      ],
      "text/plain": [
       "            state    area    region  national_share\n",
       "0       Rajasthan  342239  Northern           10.55\n",
       "1  Madhya Pradesh  308350   Central            9.37\n",
       "2     Maharashtra  307713   Western            9.36\n",
       "3   Uttar Pradesh  240928  Northern            7.33\n",
       "4         Gujarat  196024   Western            5.96"
      ]
     },
     "execution_count": 15,
     "metadata": {},
     "output_type": "execute_result"
    }
   ],
   "source": [
    "states_df.head()"
   ]
  },
  {
   "cell_type": "markdown",
   "metadata": {
    "colab_type": "text",
    "id": "3zBHvMndpw6P"
   },
   "source": [
    "## The region names in both the dataframes have to be the same, check for the same, if not, make the necessary changes"
   ]
  },
  {
   "cell_type": "code",
   "execution_count": 16,
   "metadata": {
    "colab": {},
    "colab_type": "code",
    "id": "k3KHNOuyp1oP"
   },
   "outputs": [
    {
     "data": {
      "text/plain": [
       "array(['Northern', 'Central', 'Western', 'Southern', 'Eastern',\n",
       "       'Northeastern'], dtype=object)"
      ]
     },
     "execution_count": 16,
     "metadata": {},
     "output_type": "execute_result"
    }
   ],
   "source": [
    "states_df.region.unique()"
   ]
  },
  {
   "cell_type": "code",
   "execution_count": 17,
   "metadata": {},
   "outputs": [
    {
     "data": {
      "text/plain": [
       "array(['Northern', 'Western', 'Southern', 'Eastern', 'NorthEastern'],\n",
       "      dtype=object)"
      ]
     },
     "execution_count": 17,
     "metadata": {},
     "output_type": "execute_result"
    }
   ],
   "source": [
    "power_df.region.unique()"
   ]
  },
  {
   "cell_type": "code",
   "execution_count": 18,
   "metadata": {},
   "outputs": [],
   "source": [
    "states_df = states_df.replace('Northeastern','NorthEastern')"
   ]
  },
  {
   "cell_type": "code",
   "execution_count": 19,
   "metadata": {},
   "outputs": [
    {
     "data": {
      "text/html": [
       "<div>\n",
       "<style scoped>\n",
       "    .dataframe tbody tr th:only-of-type {\n",
       "        vertical-align: middle;\n",
       "    }\n",
       "\n",
       "    .dataframe tbody tr th {\n",
       "        vertical-align: top;\n",
       "    }\n",
       "\n",
       "    .dataframe thead th {\n",
       "        text-align: right;\n",
       "    }\n",
       "</style>\n",
       "<table border=\"1\" class=\"dataframe\">\n",
       "  <thead>\n",
       "    <tr style=\"text-align: right;\">\n",
       "      <th></th>\n",
       "      <th>state</th>\n",
       "      <th>area</th>\n",
       "      <th>region</th>\n",
       "      <th>national_share</th>\n",
       "    </tr>\n",
       "  </thead>\n",
       "  <tbody>\n",
       "    <tr>\n",
       "      <th>0</th>\n",
       "      <td>Rajasthan</td>\n",
       "      <td>342239</td>\n",
       "      <td>Northern</td>\n",
       "      <td>10.55</td>\n",
       "    </tr>\n",
       "    <tr>\n",
       "      <th>1</th>\n",
       "      <td>Madhya Pradesh</td>\n",
       "      <td>308350</td>\n",
       "      <td>Central</td>\n",
       "      <td>9.37</td>\n",
       "    </tr>\n",
       "    <tr>\n",
       "      <th>2</th>\n",
       "      <td>Maharashtra</td>\n",
       "      <td>307713</td>\n",
       "      <td>Western</td>\n",
       "      <td>9.36</td>\n",
       "    </tr>\n",
       "    <tr>\n",
       "      <th>3</th>\n",
       "      <td>Uttar Pradesh</td>\n",
       "      <td>240928</td>\n",
       "      <td>Northern</td>\n",
       "      <td>7.33</td>\n",
       "    </tr>\n",
       "    <tr>\n",
       "      <th>4</th>\n",
       "      <td>Gujarat</td>\n",
       "      <td>196024</td>\n",
       "      <td>Western</td>\n",
       "      <td>5.96</td>\n",
       "    </tr>\n",
       "  </tbody>\n",
       "</table>\n",
       "</div>"
      ],
      "text/plain": [
       "            state    area    region  national_share\n",
       "0       Rajasthan  342239  Northern           10.55\n",
       "1  Madhya Pradesh  308350   Central            9.37\n",
       "2     Maharashtra  307713   Western            9.36\n",
       "3   Uttar Pradesh  240928  Northern            7.33\n",
       "4         Gujarat  196024   Western            5.96"
      ]
     },
     "execution_count": 19,
     "metadata": {},
     "output_type": "execute_result"
    }
   ],
   "source": [
    "states_df.head()"
   ]
  },
  {
   "cell_type": "markdown",
   "metadata": {
    "colab_type": "text",
    "id": "zY4lJY_Rp-Uj"
   },
   "source": [
    "## Find if there are any null values in both the dataframes, if there are, what is the possile strategy to deal with them?"
   ]
  },
  {
   "cell_type": "code",
   "execution_count": 20,
   "metadata": {
    "colab": {},
    "colab_type": "code",
    "id": "jBU-3zSIqEyf"
   },
   "outputs": [
    {
     "data": {
      "text/plain": [
       "date                               0\n",
       "region                             0\n",
       "thermal_generation_actual          0\n",
       "thermal_generation_estimated       0\n",
       "nuclear_generation_actual       1978\n",
       "nuclear_generation_estimated    1978\n",
       "hydro_generation_actual            0\n",
       "hydro_generation_estimated         0\n",
       "dtype: int64"
      ]
     },
     "execution_count": 20,
     "metadata": {},
     "output_type": "execute_result"
    }
   ],
   "source": [
    "power_df.isnull().sum()"
   ]
  },
  {
   "cell_type": "code",
   "execution_count": 21,
   "metadata": {},
   "outputs": [
    {
     "data": {
      "text/plain": [
       "state             0\n",
       "area              0\n",
       "region            0\n",
       "national_share    0\n",
       "dtype: int64"
      ]
     },
     "execution_count": 21,
     "metadata": {},
     "output_type": "execute_result"
    }
   ],
   "source": [
    "states_df.isnull().sum()"
   ]
  },
  {
   "cell_type": "markdown",
   "metadata": {
    "colab_type": "text",
    "id": "WJf1HQjiqFUv"
   },
   "source": [
    "## Subset the dataframe with only the null values and check for pattern"
   ]
  },
  {
   "cell_type": "code",
   "execution_count": 22,
   "metadata": {
    "colab": {},
    "colab_type": "code",
    "id": "CFEBkmJCqNr6"
   },
   "outputs": [
    {
     "data": {
      "text/html": [
       "<div>\n",
       "<style scoped>\n",
       "    .dataframe tbody tr th:only-of-type {\n",
       "        vertical-align: middle;\n",
       "    }\n",
       "\n",
       "    .dataframe tbody tr th {\n",
       "        vertical-align: top;\n",
       "    }\n",
       "\n",
       "    .dataframe thead th {\n",
       "        text-align: right;\n",
       "    }\n",
       "</style>\n",
       "<table border=\"1\" class=\"dataframe\">\n",
       "  <thead>\n",
       "    <tr style=\"text-align: right;\">\n",
       "      <th></th>\n",
       "      <th>date</th>\n",
       "      <th>region</th>\n",
       "      <th>thermal_generation_actual</th>\n",
       "      <th>thermal_generation_estimated</th>\n",
       "      <th>nuclear_generation_actual</th>\n",
       "      <th>nuclear_generation_estimated</th>\n",
       "      <th>hydro_generation_actual</th>\n",
       "      <th>hydro_generation_estimated</th>\n",
       "    </tr>\n",
       "  </thead>\n",
       "  <tbody>\n",
       "    <tr>\n",
       "      <th>3</th>\n",
       "      <td>2017-09-01</td>\n",
       "      <td>Eastern</td>\n",
       "      <td>441.02</td>\n",
       "      <td>429.39</td>\n",
       "      <td>NaN</td>\n",
       "      <td>NaN</td>\n",
       "      <td>85.94</td>\n",
       "      <td>69.36</td>\n",
       "    </tr>\n",
       "    <tr>\n",
       "      <th>4</th>\n",
       "      <td>2017-09-01</td>\n",
       "      <td>NorthEastern</td>\n",
       "      <td>29.11</td>\n",
       "      <td>15.91</td>\n",
       "      <td>NaN</td>\n",
       "      <td>NaN</td>\n",
       "      <td>24.64</td>\n",
       "      <td>21.21</td>\n",
       "    </tr>\n",
       "    <tr>\n",
       "      <th>8</th>\n",
       "      <td>2017-09-02</td>\n",
       "      <td>Eastern</td>\n",
       "      <td>441.02</td>\n",
       "      <td>425.75</td>\n",
       "      <td>NaN</td>\n",
       "      <td>NaN</td>\n",
       "      <td>85.94</td>\n",
       "      <td>74.18</td>\n",
       "    </tr>\n",
       "    <tr>\n",
       "      <th>9</th>\n",
       "      <td>2017-09-02</td>\n",
       "      <td>NorthEastern</td>\n",
       "      <td>29.11</td>\n",
       "      <td>16.50</td>\n",
       "      <td>NaN</td>\n",
       "      <td>NaN</td>\n",
       "      <td>24.64</td>\n",
       "      <td>20.81</td>\n",
       "    </tr>\n",
       "    <tr>\n",
       "      <th>13</th>\n",
       "      <td>2017-09-03</td>\n",
       "      <td>Eastern</td>\n",
       "      <td>445.38</td>\n",
       "      <td>427.61</td>\n",
       "      <td>NaN</td>\n",
       "      <td>NaN</td>\n",
       "      <td>85.94</td>\n",
       "      <td>71.05</td>\n",
       "    </tr>\n",
       "  </tbody>\n",
       "</table>\n",
       "</div>"
      ],
      "text/plain": [
       "          date        region thermal_generation_actual  \\\n",
       "3   2017-09-01       Eastern                    441.02   \n",
       "4   2017-09-01  NorthEastern                     29.11   \n",
       "8   2017-09-02       Eastern                    441.02   \n",
       "9   2017-09-02  NorthEastern                     29.11   \n",
       "13  2017-09-03       Eastern                    445.38   \n",
       "\n",
       "   thermal_generation_estimated  nuclear_generation_actual  \\\n",
       "3                        429.39                        NaN   \n",
       "4                         15.91                        NaN   \n",
       "8                        425.75                        NaN   \n",
       "9                         16.50                        NaN   \n",
       "13                       427.61                        NaN   \n",
       "\n",
       "    nuclear_generation_estimated  hydro_generation_actual  \\\n",
       "3                            NaN                    85.94   \n",
       "4                            NaN                    24.64   \n",
       "8                            NaN                    85.94   \n",
       "9                            NaN                    24.64   \n",
       "13                           NaN                    85.94   \n",
       "\n",
       "    hydro_generation_estimated  \n",
       "3                        69.36  \n",
       "4                        21.21  \n",
       "8                        74.18  \n",
       "9                        20.81  \n",
       "13                       71.05  "
      ]
     },
     "execution_count": 22,
     "metadata": {},
     "output_type": "execute_result"
    }
   ],
   "source": [
    "power_df[power_df['nuclear_generation_actual'].isnull()].head()"
   ]
  },
  {
   "cell_type": "code",
   "execution_count": 23,
   "metadata": {},
   "outputs": [
    {
     "data": {
      "text/plain": [
       "array(['Eastern', 'NorthEastern'], dtype=object)"
      ]
     },
     "execution_count": 23,
     "metadata": {},
     "output_type": "execute_result"
    }
   ],
   "source": [
    "power_df[power_df['nuclear_generation_actual'].isnull()]['region'].unique()"
   ]
  },
  {
   "cell_type": "code",
   "execution_count": 24,
   "metadata": {},
   "outputs": [
    {
     "data": {
      "text/html": [
       "<div>\n",
       "<style scoped>\n",
       "    .dataframe tbody tr th:only-of-type {\n",
       "        vertical-align: middle;\n",
       "    }\n",
       "\n",
       "    .dataframe tbody tr th {\n",
       "        vertical-align: top;\n",
       "    }\n",
       "\n",
       "    .dataframe thead th {\n",
       "        text-align: right;\n",
       "    }\n",
       "</style>\n",
       "<table border=\"1\" class=\"dataframe\">\n",
       "  <thead>\n",
       "    <tr style=\"text-align: right;\">\n",
       "      <th></th>\n",
       "      <th>date</th>\n",
       "      <th>region</th>\n",
       "      <th>thermal_generation_actual</th>\n",
       "      <th>thermal_generation_estimated</th>\n",
       "      <th>nuclear_generation_actual</th>\n",
       "      <th>nuclear_generation_estimated</th>\n",
       "      <th>hydro_generation_actual</th>\n",
       "      <th>hydro_generation_estimated</th>\n",
       "    </tr>\n",
       "  </thead>\n",
       "  <tbody>\n",
       "    <tr>\n",
       "      <th>3</th>\n",
       "      <td>2017-09-01</td>\n",
       "      <td>Eastern</td>\n",
       "      <td>441.02</td>\n",
       "      <td>429.39</td>\n",
       "      <td>NaN</td>\n",
       "      <td>NaN</td>\n",
       "      <td>85.94</td>\n",
       "      <td>69.36</td>\n",
       "    </tr>\n",
       "    <tr>\n",
       "      <th>4</th>\n",
       "      <td>2017-09-01</td>\n",
       "      <td>NorthEastern</td>\n",
       "      <td>29.11</td>\n",
       "      <td>15.91</td>\n",
       "      <td>NaN</td>\n",
       "      <td>NaN</td>\n",
       "      <td>24.64</td>\n",
       "      <td>21.21</td>\n",
       "    </tr>\n",
       "    <tr>\n",
       "      <th>8</th>\n",
       "      <td>2017-09-02</td>\n",
       "      <td>Eastern</td>\n",
       "      <td>441.02</td>\n",
       "      <td>425.75</td>\n",
       "      <td>NaN</td>\n",
       "      <td>NaN</td>\n",
       "      <td>85.94</td>\n",
       "      <td>74.18</td>\n",
       "    </tr>\n",
       "    <tr>\n",
       "      <th>9</th>\n",
       "      <td>2017-09-02</td>\n",
       "      <td>NorthEastern</td>\n",
       "      <td>29.11</td>\n",
       "      <td>16.50</td>\n",
       "      <td>NaN</td>\n",
       "      <td>NaN</td>\n",
       "      <td>24.64</td>\n",
       "      <td>20.81</td>\n",
       "    </tr>\n",
       "    <tr>\n",
       "      <th>13</th>\n",
       "      <td>2017-09-03</td>\n",
       "      <td>Eastern</td>\n",
       "      <td>445.38</td>\n",
       "      <td>427.61</td>\n",
       "      <td>NaN</td>\n",
       "      <td>NaN</td>\n",
       "      <td>85.94</td>\n",
       "      <td>71.05</td>\n",
       "    </tr>\n",
       "  </tbody>\n",
       "</table>\n",
       "</div>"
      ],
      "text/plain": [
       "          date        region thermal_generation_actual  \\\n",
       "3   2017-09-01       Eastern                    441.02   \n",
       "4   2017-09-01  NorthEastern                     29.11   \n",
       "8   2017-09-02       Eastern                    441.02   \n",
       "9   2017-09-02  NorthEastern                     29.11   \n",
       "13  2017-09-03       Eastern                    445.38   \n",
       "\n",
       "   thermal_generation_estimated  nuclear_generation_actual  \\\n",
       "3                        429.39                        NaN   \n",
       "4                         15.91                        NaN   \n",
       "8                        425.75                        NaN   \n",
       "9                         16.50                        NaN   \n",
       "13                       427.61                        NaN   \n",
       "\n",
       "    nuclear_generation_estimated  hydro_generation_actual  \\\n",
       "3                            NaN                    85.94   \n",
       "4                            NaN                    24.64   \n",
       "8                            NaN                    85.94   \n",
       "9                            NaN                    24.64   \n",
       "13                           NaN                    85.94   \n",
       "\n",
       "    hydro_generation_estimated  \n",
       "3                        69.36  \n",
       "4                        21.21  \n",
       "8                        74.18  \n",
       "9                        20.81  \n",
       "13                       71.05  "
      ]
     },
     "execution_count": 24,
     "metadata": {},
     "output_type": "execute_result"
    }
   ],
   "source": [
    "power_df[power_df['nuclear_generation_estimated'].isnull()].head()"
   ]
  },
  {
   "cell_type": "code",
   "execution_count": 25,
   "metadata": {},
   "outputs": [
    {
     "data": {
      "text/plain": [
       "array(['Eastern', 'NorthEastern'], dtype=object)"
      ]
     },
     "execution_count": 25,
     "metadata": {},
     "output_type": "execute_result"
    }
   ],
   "source": [
    "power_df[power_df['nuclear_generation_estimated'].isnull()].region.unique()"
   ]
  },
  {
   "cell_type": "code",
   "execution_count": 26,
   "metadata": {},
   "outputs": [
    {
     "data": {
      "text/html": [
       "<div>\n",
       "<style scoped>\n",
       "    .dataframe tbody tr th:only-of-type {\n",
       "        vertical-align: middle;\n",
       "    }\n",
       "\n",
       "    .dataframe tbody tr th {\n",
       "        vertical-align: top;\n",
       "    }\n",
       "\n",
       "    .dataframe thead th {\n",
       "        text-align: right;\n",
       "    }\n",
       "</style>\n",
       "<table border=\"1\" class=\"dataframe\">\n",
       "  <thead>\n",
       "    <tr style=\"text-align: right;\">\n",
       "      <th></th>\n",
       "      <th>nuclear_generation_actual</th>\n",
       "      <th>nuclear_generation_estimated</th>\n",
       "      <th>hydro_generation_actual</th>\n",
       "      <th>hydro_generation_estimated</th>\n",
       "    </tr>\n",
       "    <tr>\n",
       "      <th>region</th>\n",
       "      <th></th>\n",
       "      <th></th>\n",
       "      <th></th>\n",
       "      <th></th>\n",
       "    </tr>\n",
       "  </thead>\n",
       "  <tbody>\n",
       "    <tr>\n",
       "      <th>Eastern</th>\n",
       "      <td>0.00</td>\n",
       "      <td>0.00</td>\n",
       "      <td>48686.62</td>\n",
       "      <td>52461.95</td>\n",
       "    </tr>\n",
       "    <tr>\n",
       "      <th>NorthEastern</th>\n",
       "      <td>0.00</td>\n",
       "      <td>0.00</td>\n",
       "      <td>17612.32</td>\n",
       "      <td>14058.66</td>\n",
       "    </tr>\n",
       "    <tr>\n",
       "      <th>Northern</th>\n",
       "      <td>26964.08</td>\n",
       "      <td>31378.94</td>\n",
       "      <td>188854.16</td>\n",
       "      <td>201204.03</td>\n",
       "    </tr>\n",
       "    <tr>\n",
       "      <th>Southern</th>\n",
       "      <td>55855.21</td>\n",
       "      <td>46483.24</td>\n",
       "      <td>71109.34</td>\n",
       "      <td>77083.80</td>\n",
       "    </tr>\n",
       "    <tr>\n",
       "      <th>Western</th>\n",
       "      <td>27678.34</td>\n",
       "      <td>31880.85</td>\n",
       "      <td>36235.34</td>\n",
       "      <td>35180.02</td>\n",
       "    </tr>\n",
       "  </tbody>\n",
       "</table>\n",
       "</div>"
      ],
      "text/plain": [
       "              nuclear_generation_actual  nuclear_generation_estimated  \\\n",
       "region                                                                  \n",
       "Eastern                            0.00                          0.00   \n",
       "NorthEastern                       0.00                          0.00   \n",
       "Northern                       26964.08                      31378.94   \n",
       "Southern                       55855.21                      46483.24   \n",
       "Western                        27678.34                      31880.85   \n",
       "\n",
       "              hydro_generation_actual  hydro_generation_estimated  \n",
       "region                                                             \n",
       "Eastern                      48686.62                    52461.95  \n",
       "NorthEastern                 17612.32                    14058.66  \n",
       "Northern                    188854.16                   201204.03  \n",
       "Southern                     71109.34                    77083.80  \n",
       "Western                      36235.34                    35180.02  "
      ]
     },
     "execution_count": 26,
     "metadata": {},
     "output_type": "execute_result"
    }
   ],
   "source": [
    "power_df.groupby('region').sum()"
   ]
  },
  {
   "cell_type": "markdown",
   "metadata": {
    "colab_type": "text",
    "id": "ww5cCZE8qOr1"
   },
   "source": [
    "### Nuclear Generation columns are empty for Eastern and NorthEastern region. Could be due to no nuclear plants in that region.So, Replacing the NaN values with 0"
   ]
  },
  {
   "cell_type": "code",
   "execution_count": 27,
   "metadata": {
    "colab": {},
    "colab_type": "code",
    "id": "dPzEGB46qTaW"
   },
   "outputs": [],
   "source": [
    "power_df = power_df.fillna(0)"
   ]
  },
  {
   "cell_type": "code",
   "execution_count": 28,
   "metadata": {},
   "outputs": [
    {
     "data": {
      "text/plain": [
       "date                            0\n",
       "region                          0\n",
       "thermal_generation_actual       0\n",
       "thermal_generation_estimated    0\n",
       "nuclear_generation_actual       0\n",
       "nuclear_generation_estimated    0\n",
       "hydro_generation_actual         0\n",
       "hydro_generation_estimated      0\n",
       "dtype: int64"
      ]
     },
     "execution_count": 28,
     "metadata": {},
     "output_type": "execute_result"
    }
   ],
   "source": [
    "power_df.isnull().sum()"
   ]
  },
  {
   "cell_type": "markdown",
   "metadata": {
    "colab_type": "text",
    "id": "DYV6cxi7qUZ1"
   },
   "source": [
    "## Covert the thermal generation values to float in the power_df"
   ]
  },
  {
   "cell_type": "code",
   "execution_count": 29,
   "metadata": {
    "colab": {},
    "colab_type": "code",
    "id": "9Vk5MG32qbm6"
   },
   "outputs": [
    {
     "data": {
      "text/html": [
       "<div>\n",
       "<style scoped>\n",
       "    .dataframe tbody tr th:only-of-type {\n",
       "        vertical-align: middle;\n",
       "    }\n",
       "\n",
       "    .dataframe tbody tr th {\n",
       "        vertical-align: top;\n",
       "    }\n",
       "\n",
       "    .dataframe thead th {\n",
       "        text-align: right;\n",
       "    }\n",
       "</style>\n",
       "<table border=\"1\" class=\"dataframe\">\n",
       "  <thead>\n",
       "    <tr style=\"text-align: right;\">\n",
       "      <th></th>\n",
       "      <th>date</th>\n",
       "      <th>region</th>\n",
       "      <th>thermal_generation_actual</th>\n",
       "      <th>thermal_generation_estimated</th>\n",
       "      <th>nuclear_generation_actual</th>\n",
       "      <th>nuclear_generation_estimated</th>\n",
       "      <th>hydro_generation_actual</th>\n",
       "      <th>hydro_generation_estimated</th>\n",
       "    </tr>\n",
       "  </thead>\n",
       "  <tbody>\n",
       "    <tr>\n",
       "      <th>0</th>\n",
       "      <td>2017-09-01</td>\n",
       "      <td>Northern</td>\n",
       "      <td>624.23</td>\n",
       "      <td>484.21</td>\n",
       "      <td>30.36</td>\n",
       "      <td>35.57</td>\n",
       "      <td>273.27</td>\n",
       "      <td>320.81</td>\n",
       "    </tr>\n",
       "    <tr>\n",
       "      <th>1</th>\n",
       "      <td>2017-09-01</td>\n",
       "      <td>Western</td>\n",
       "      <td>1106.89</td>\n",
       "      <td>1024.33</td>\n",
       "      <td>25.17</td>\n",
       "      <td>3.81</td>\n",
       "      <td>72.00</td>\n",
       "      <td>21.53</td>\n",
       "    </tr>\n",
       "    <tr>\n",
       "      <th>2</th>\n",
       "      <td>2017-09-01</td>\n",
       "      <td>Southern</td>\n",
       "      <td>576.66</td>\n",
       "      <td>578.55</td>\n",
       "      <td>62.73</td>\n",
       "      <td>49.80</td>\n",
       "      <td>111.57</td>\n",
       "      <td>64.78</td>\n",
       "    </tr>\n",
       "    <tr>\n",
       "      <th>3</th>\n",
       "      <td>2017-09-01</td>\n",
       "      <td>Eastern</td>\n",
       "      <td>441.02</td>\n",
       "      <td>429.39</td>\n",
       "      <td>0.00</td>\n",
       "      <td>0.00</td>\n",
       "      <td>85.94</td>\n",
       "      <td>69.36</td>\n",
       "    </tr>\n",
       "    <tr>\n",
       "      <th>4</th>\n",
       "      <td>2017-09-01</td>\n",
       "      <td>NorthEastern</td>\n",
       "      <td>29.11</td>\n",
       "      <td>15.91</td>\n",
       "      <td>0.00</td>\n",
       "      <td>0.00</td>\n",
       "      <td>24.64</td>\n",
       "      <td>21.21</td>\n",
       "    </tr>\n",
       "  </tbody>\n",
       "</table>\n",
       "</div>"
      ],
      "text/plain": [
       "         date        region  thermal_generation_actual  \\\n",
       "0  2017-09-01      Northern                     624.23   \n",
       "1  2017-09-01       Western                    1106.89   \n",
       "2  2017-09-01      Southern                     576.66   \n",
       "3  2017-09-01       Eastern                     441.02   \n",
       "4  2017-09-01  NorthEastern                      29.11   \n",
       "\n",
       "   thermal_generation_estimated  nuclear_generation_actual  \\\n",
       "0                        484.21                      30.36   \n",
       "1                       1024.33                      25.17   \n",
       "2                        578.55                      62.73   \n",
       "3                        429.39                       0.00   \n",
       "4                         15.91                       0.00   \n",
       "\n",
       "   nuclear_generation_estimated  hydro_generation_actual  \\\n",
       "0                         35.57                   273.27   \n",
       "1                          3.81                    72.00   \n",
       "2                         49.80                   111.57   \n",
       "3                          0.00                    85.94   \n",
       "4                          0.00                    24.64   \n",
       "\n",
       "   hydro_generation_estimated  \n",
       "0                      320.81  \n",
       "1                       21.53  \n",
       "2                       64.78  \n",
       "3                       69.36  \n",
       "4                       21.21  "
      ]
     },
     "execution_count": 29,
     "metadata": {},
     "output_type": "execute_result"
    }
   ],
   "source": [
    "power_df['thermal_generation_actual'] = power_df['thermal_generation_actual'].str.replace(',','').astype(np.float64)\n",
    "\n",
    "power_df['thermal_generation_estimated'] = power_df['thermal_generation_estimated'].str.replace(',','').astype(np.float64)\n",
    "\n",
    "power_df.head()\n"
   ]
  },
  {
   "cell_type": "markdown",
   "metadata": {
    "colab_type": "text",
    "id": "po8qVHobqcTO"
   },
   "source": [
    "## Coverting the date values to DateTime format"
   ]
  },
  {
   "cell_type": "code",
   "execution_count": 30,
   "metadata": {
    "colab": {},
    "colab_type": "code",
    "id": "ALWIMSmIqg6f"
   },
   "outputs": [],
   "source": [
    "power_df['date'] = pd.to_datetime(power_df['date'])"
   ]
  },
  {
   "cell_type": "code",
   "execution_count": 31,
   "metadata": {},
   "outputs": [
    {
     "data": {
      "text/html": [
       "<div>\n",
       "<style scoped>\n",
       "    .dataframe tbody tr th:only-of-type {\n",
       "        vertical-align: middle;\n",
       "    }\n",
       "\n",
       "    .dataframe tbody tr th {\n",
       "        vertical-align: top;\n",
       "    }\n",
       "\n",
       "    .dataframe thead th {\n",
       "        text-align: right;\n",
       "    }\n",
       "</style>\n",
       "<table border=\"1\" class=\"dataframe\">\n",
       "  <thead>\n",
       "    <tr style=\"text-align: right;\">\n",
       "      <th></th>\n",
       "      <th>date</th>\n",
       "      <th>region</th>\n",
       "      <th>thermal_generation_actual</th>\n",
       "      <th>thermal_generation_estimated</th>\n",
       "      <th>nuclear_generation_actual</th>\n",
       "      <th>nuclear_generation_estimated</th>\n",
       "      <th>hydro_generation_actual</th>\n",
       "      <th>hydro_generation_estimated</th>\n",
       "    </tr>\n",
       "  </thead>\n",
       "  <tbody>\n",
       "    <tr>\n",
       "      <th>0</th>\n",
       "      <td>2017-09-01</td>\n",
       "      <td>Northern</td>\n",
       "      <td>624.23</td>\n",
       "      <td>484.21</td>\n",
       "      <td>30.36</td>\n",
       "      <td>35.57</td>\n",
       "      <td>273.27</td>\n",
       "      <td>320.81</td>\n",
       "    </tr>\n",
       "    <tr>\n",
       "      <th>1</th>\n",
       "      <td>2017-09-01</td>\n",
       "      <td>Western</td>\n",
       "      <td>1106.89</td>\n",
       "      <td>1024.33</td>\n",
       "      <td>25.17</td>\n",
       "      <td>3.81</td>\n",
       "      <td>72.00</td>\n",
       "      <td>21.53</td>\n",
       "    </tr>\n",
       "    <tr>\n",
       "      <th>2</th>\n",
       "      <td>2017-09-01</td>\n",
       "      <td>Southern</td>\n",
       "      <td>576.66</td>\n",
       "      <td>578.55</td>\n",
       "      <td>62.73</td>\n",
       "      <td>49.80</td>\n",
       "      <td>111.57</td>\n",
       "      <td>64.78</td>\n",
       "    </tr>\n",
       "    <tr>\n",
       "      <th>3</th>\n",
       "      <td>2017-09-01</td>\n",
       "      <td>Eastern</td>\n",
       "      <td>441.02</td>\n",
       "      <td>429.39</td>\n",
       "      <td>0.00</td>\n",
       "      <td>0.00</td>\n",
       "      <td>85.94</td>\n",
       "      <td>69.36</td>\n",
       "    </tr>\n",
       "    <tr>\n",
       "      <th>4</th>\n",
       "      <td>2017-09-01</td>\n",
       "      <td>NorthEastern</td>\n",
       "      <td>29.11</td>\n",
       "      <td>15.91</td>\n",
       "      <td>0.00</td>\n",
       "      <td>0.00</td>\n",
       "      <td>24.64</td>\n",
       "      <td>21.21</td>\n",
       "    </tr>\n",
       "  </tbody>\n",
       "</table>\n",
       "</div>"
      ],
      "text/plain": [
       "        date        region  thermal_generation_actual  \\\n",
       "0 2017-09-01      Northern                     624.23   \n",
       "1 2017-09-01       Western                    1106.89   \n",
       "2 2017-09-01      Southern                     576.66   \n",
       "3 2017-09-01       Eastern                     441.02   \n",
       "4 2017-09-01  NorthEastern                      29.11   \n",
       "\n",
       "   thermal_generation_estimated  nuclear_generation_actual  \\\n",
       "0                        484.21                      30.36   \n",
       "1                       1024.33                      25.17   \n",
       "2                        578.55                      62.73   \n",
       "3                        429.39                       0.00   \n",
       "4                         15.91                       0.00   \n",
       "\n",
       "   nuclear_generation_estimated  hydro_generation_actual  \\\n",
       "0                         35.57                   273.27   \n",
       "1                          3.81                    72.00   \n",
       "2                         49.80                   111.57   \n",
       "3                          0.00                    85.94   \n",
       "4                          0.00                    24.64   \n",
       "\n",
       "   hydro_generation_estimated  \n",
       "0                      320.81  \n",
       "1                       21.53  \n",
       "2                       64.78  \n",
       "3                       69.36  \n",
       "4                       21.21  "
      ]
     },
     "execution_count": 31,
     "metadata": {},
     "output_type": "execute_result"
    }
   ],
   "source": [
    "power_df.head()"
   ]
  },
  {
   "cell_type": "markdown",
   "metadata": {
    "colab_type": "text",
    "id": "ZSuEUGEkqiGg"
   },
   "source": [
    "## Find out the region which has the highest number of states and find out which states they are.\n",
    "\n"
   ]
  },
  {
   "cell_type": "code",
   "execution_count": 32,
   "metadata": {
    "colab": {},
    "colab_type": "code",
    "id": "sBxti6YCqn4j"
   },
   "outputs": [
    {
     "data": {
      "text/plain": [
       "region\n",
       "Central          2\n",
       "Eastern          4\n",
       "NorthEastern     8\n",
       "Northern        10\n",
       "Southern         6\n",
       "Western          4\n",
       "Name: state, dtype: int64"
      ]
     },
     "execution_count": 32,
     "metadata": {},
     "output_type": "execute_result"
    }
   ],
   "source": [
    "states_df.groupby('region')['state'].count()"
   ]
  },
  {
   "cell_type": "code",
   "execution_count": 33,
   "metadata": {},
   "outputs": [
    {
     "data": {
      "text/plain": [
       "array(['Rajasthan', 'Uttar Pradesh', 'Ladakh', 'Himachal Pradesh',\n",
       "       'Uttarakhand', 'Punjab', 'Haryana', 'Jammu and Kashmir', 'Delhi',\n",
       "       'Chandigarh'], dtype=object)"
      ]
     },
     "execution_count": 33,
     "metadata": {},
     "output_type": "execute_result"
    }
   ],
   "source": [
    "states_df[states_df['region']== 'Northern']['state'].values"
   ]
  },
  {
   "cell_type": "code",
   "execution_count": 34,
   "metadata": {},
   "outputs": [
    {
     "data": {
      "text/plain": [
       "array(['Rajasthan', 'Uttar Pradesh', 'Ladakh', 'Himachal Pradesh',\n",
       "       'Uttarakhand', 'Punjab', 'Haryana', 'Jammu and Kashmir', 'Delhi',\n",
       "       'Chandigarh'], dtype=object)"
      ]
     },
     "execution_count": 34,
     "metadata": {},
     "output_type": "execute_result"
    }
   ],
   "source": [
    "states_df.groupby(by=['region'])['state'].unique()['Northern']"
   ]
  },
  {
   "cell_type": "markdown",
   "metadata": {
    "colab_type": "text",
    "id": "Vx3j5SmmqpIf"
   },
   "source": [
    "##  Create a subset of the dataframe such that it shows mean power generated on each of the days for all the sectors."
   ]
  },
  {
   "cell_type": "code",
   "execution_count": 35,
   "metadata": {
    "colab": {},
    "colab_type": "code",
    "id": "oedxXWs1qtmi"
   },
   "outputs": [
    {
     "data": {
      "text/html": [
       "<div>\n",
       "<style scoped>\n",
       "    .dataframe tbody tr th:only-of-type {\n",
       "        vertical-align: middle;\n",
       "    }\n",
       "\n",
       "    .dataframe tbody tr th {\n",
       "        vertical-align: top;\n",
       "    }\n",
       "\n",
       "    .dataframe thead th {\n",
       "        text-align: right;\n",
       "    }\n",
       "</style>\n",
       "<table border=\"1\" class=\"dataframe\">\n",
       "  <thead>\n",
       "    <tr style=\"text-align: right;\">\n",
       "      <th></th>\n",
       "      <th>date</th>\n",
       "      <th>thermal_generation_actual</th>\n",
       "      <th>thermal_generation_estimated</th>\n",
       "      <th>nuclear_generation_actual</th>\n",
       "      <th>nuclear_generation_estimated</th>\n",
       "      <th>hydro_generation_actual</th>\n",
       "      <th>hydro_generation_estimated</th>\n",
       "    </tr>\n",
       "  </thead>\n",
       "  <tbody>\n",
       "    <tr>\n",
       "      <th>0</th>\n",
       "      <td>2017-09-01</td>\n",
       "      <td>555.582</td>\n",
       "      <td>506.478</td>\n",
       "      <td>23.652</td>\n",
       "      <td>17.836</td>\n",
       "      <td>113.484</td>\n",
       "      <td>99.538</td>\n",
       "    </tr>\n",
       "    <tr>\n",
       "      <th>1</th>\n",
       "      <td>2017-09-02</td>\n",
       "      <td>555.582</td>\n",
       "      <td>512.674</td>\n",
       "      <td>23.652</td>\n",
       "      <td>18.456</td>\n",
       "      <td>113.484</td>\n",
       "      <td>99.128</td>\n",
       "    </tr>\n",
       "    <tr>\n",
       "      <th>2</th>\n",
       "      <td>2017-09-03</td>\n",
       "      <td>555.554</td>\n",
       "      <td>506.646</td>\n",
       "      <td>23.652</td>\n",
       "      <td>18.514</td>\n",
       "      <td>113.484</td>\n",
       "      <td>94.610</td>\n",
       "    </tr>\n",
       "    <tr>\n",
       "      <th>3</th>\n",
       "      <td>2017-09-04</td>\n",
       "      <td>555.554</td>\n",
       "      <td>542.856</td>\n",
       "      <td>23.652</td>\n",
       "      <td>18.524</td>\n",
       "      <td>113.484</td>\n",
       "      <td>100.072</td>\n",
       "    </tr>\n",
       "    <tr>\n",
       "      <th>4</th>\n",
       "      <td>2017-09-05</td>\n",
       "      <td>558.170</td>\n",
       "      <td>555.930</td>\n",
       "      <td>23.652</td>\n",
       "      <td>18.542</td>\n",
       "      <td>113.484</td>\n",
       "      <td>94.032</td>\n",
       "    </tr>\n",
       "  </tbody>\n",
       "</table>\n",
       "</div>"
      ],
      "text/plain": [
       "        date  thermal_generation_actual  thermal_generation_estimated  \\\n",
       "0 2017-09-01                    555.582                       506.478   \n",
       "1 2017-09-02                    555.582                       512.674   \n",
       "2 2017-09-03                    555.554                       506.646   \n",
       "3 2017-09-04                    555.554                       542.856   \n",
       "4 2017-09-05                    558.170                       555.930   \n",
       "\n",
       "   nuclear_generation_actual  nuclear_generation_estimated  \\\n",
       "0                     23.652                        17.836   \n",
       "1                     23.652                        18.456   \n",
       "2                     23.652                        18.514   \n",
       "3                     23.652                        18.524   \n",
       "4                     23.652                        18.542   \n",
       "\n",
       "   hydro_generation_actual  hydro_generation_estimated  \n",
       "0                  113.484                      99.538  \n",
       "1                  113.484                      99.128  \n",
       "2                  113.484                      94.610  \n",
       "3                  113.484                     100.072  \n",
       "4                  113.484                      94.032  "
      ]
     },
     "execution_count": 35,
     "metadata": {},
     "output_type": "execute_result"
    }
   ],
   "source": [
    "mean_power = power_df.groupby('date',as_index=False).mean()\n",
    "\n",
    "mean_power.head()"
   ]
  },
  {
   "cell_type": "markdown",
   "metadata": {
    "colab_type": "text",
    "id": "wu-Nh9-IqzDV"
   },
   "source": [
    "## Plotting a graph of mean of all the types of power gernerations in all of India, with total power generation"
   ]
  },
  {
   "cell_type": "code",
   "execution_count": 36,
   "metadata": {
    "colab": {},
    "colab_type": "code",
    "id": "HBd28vgyqz3V"
   },
   "outputs": [
    {
     "name": "stderr",
     "output_type": "stream",
     "text": [
      "C:\\Users\\gmahi\\AppData\\Local\\Temp/ipykernel_1792/3085708743.py:2: SettingWithCopyWarning: \n",
      "A value is trying to be set on a copy of a slice from a DataFrame.\n",
      "Try using .loc[row_indexer,col_indexer] = value instead\n",
      "\n",
      "See the caveats in the documentation: https://pandas.pydata.org/pandas-docs/stable/user_guide/indexing.html#returning-a-view-versus-a-copy\n",
      "  power_actcols['total_generation_actual'] = power_actcols.iloc[:,1:3].mean(axis=1)\n"
     ]
    },
    {
     "data": {
      "text/html": [
       "<div>\n",
       "<style scoped>\n",
       "    .dataframe tbody tr th:only-of-type {\n",
       "        vertical-align: middle;\n",
       "    }\n",
       "\n",
       "    .dataframe tbody tr th {\n",
       "        vertical-align: top;\n",
       "    }\n",
       "\n",
       "    .dataframe thead th {\n",
       "        text-align: right;\n",
       "    }\n",
       "</style>\n",
       "<table border=\"1\" class=\"dataframe\">\n",
       "  <thead>\n",
       "    <tr style=\"text-align: right;\">\n",
       "      <th></th>\n",
       "      <th>date</th>\n",
       "      <th>thermal_generation_actual</th>\n",
       "      <th>nuclear_generation_actual</th>\n",
       "      <th>hydro_generation_actual</th>\n",
       "      <th>total_generation_actual</th>\n",
       "    </tr>\n",
       "  </thead>\n",
       "  <tbody>\n",
       "    <tr>\n",
       "      <th>0</th>\n",
       "      <td>2017-09-01</td>\n",
       "      <td>555.582</td>\n",
       "      <td>23.652</td>\n",
       "      <td>113.484</td>\n",
       "      <td>289.617</td>\n",
       "    </tr>\n",
       "    <tr>\n",
       "      <th>1</th>\n",
       "      <td>2017-09-02</td>\n",
       "      <td>555.582</td>\n",
       "      <td>23.652</td>\n",
       "      <td>113.484</td>\n",
       "      <td>289.617</td>\n",
       "    </tr>\n",
       "    <tr>\n",
       "      <th>2</th>\n",
       "      <td>2017-09-03</td>\n",
       "      <td>555.554</td>\n",
       "      <td>23.652</td>\n",
       "      <td>113.484</td>\n",
       "      <td>289.603</td>\n",
       "    </tr>\n",
       "    <tr>\n",
       "      <th>3</th>\n",
       "      <td>2017-09-04</td>\n",
       "      <td>555.554</td>\n",
       "      <td>23.652</td>\n",
       "      <td>113.484</td>\n",
       "      <td>289.603</td>\n",
       "    </tr>\n",
       "    <tr>\n",
       "      <th>4</th>\n",
       "      <td>2017-09-05</td>\n",
       "      <td>558.170</td>\n",
       "      <td>23.652</td>\n",
       "      <td>113.484</td>\n",
       "      <td>290.911</td>\n",
       "    </tr>\n",
       "  </tbody>\n",
       "</table>\n",
       "</div>"
      ],
      "text/plain": [
       "        date  thermal_generation_actual  nuclear_generation_actual  \\\n",
       "0 2017-09-01                    555.582                     23.652   \n",
       "1 2017-09-02                    555.582                     23.652   \n",
       "2 2017-09-03                    555.554                     23.652   \n",
       "3 2017-09-04                    555.554                     23.652   \n",
       "4 2017-09-05                    558.170                     23.652   \n",
       "\n",
       "   hydro_generation_actual  total_generation_actual  \n",
       "0                  113.484                  289.617  \n",
       "1                  113.484                  289.617  \n",
       "2                  113.484                  289.603  \n",
       "3                  113.484                  289.603  \n",
       "4                  113.484                  290.911  "
      ]
     },
     "execution_count": 36,
     "metadata": {},
     "output_type": "execute_result"
    }
   ],
   "source": [
    "power_actcols = mean_power[['date','thermal_generation_actual','nuclear_generation_actual','hydro_generation_actual']]\n",
    "power_actcols['total_generation_actual'] = power_actcols.iloc[:,1:3].mean(axis=1)\n",
    "power_actcols.head()"
   ]
  },
  {
   "cell_type": "code",
   "execution_count": 37,
   "metadata": {},
   "outputs": [
    {
     "data": {
      "image/png": "[encoded data removed]",
      "text/plain": [
       "<Figure size 1296x648 with 1 Axes>"
      ]
     },
     "metadata": {
      "needs_background": "light"
     },
     "output_type": "display_data"
    }
   ],
   "source": [
    "plt.figure(figsize=(18,9))\n",
    "#power_actcols.plot(x='Date',y='Total Actual Generation')\n",
    "\n",
    "plt.plot(power_actcols['date'],power_actcols['thermal_generation_actual'],label='Thermal Generation Actual')\n",
    "plt.plot(power_actcols['date'],power_actcols['nuclear_generation_actual'],label='Nuclear Generation Actual')\n",
    "plt.plot(power_actcols['date'],power_actcols['hydro_generation_actual'],label='Hydro Generation Actual')\n",
    "plt.plot(power_actcols['date'],power_actcols['total_generation_actual'],label='Total Generation Actual')\n",
    "\n",
    "plt.xlabel('Date')\n",
    "plt.ylabel('Power Generation mean (in MU)')\n",
    "\n",
    "plt.legend()\n",
    "plt.show()"
   ]
  }
 ],
 "metadata": {
  "colab": {
   "name": "daily_power_generation.ipynb",
   "provenance": []
  },
  "kernelspec": {
   "display_name": "Python 3 (ipykernel)",
   "language": "python",
   "name": "python3"
  },
  "language_info": {
   "codemirror_mode": {
    "name": "ipython",
    "version": 3
   },
   "file_extension": ".py",
   "mimetype": "text/x-python",
   "name": "python",
   "nbconvert_exporter": "python",
   "pygments_lexer": "ipython3",
   "version": "3.8.12"
  }
 },
 "nbformat": 4,
 "nbformat_minor": 1
}
